{
 "cells": [
  {
   "cell_type": "markdown",
   "metadata": {},
   "source": [
    "# Regression - Part 1"
   ]
  },
  {
   "cell_type": "markdown",
   "metadata": {},
   "source": [
    "# Load the data"
   ]
  },
  {
   "cell_type": "code",
   "execution_count": 634,
   "metadata": {},
   "outputs": [],
   "source": [
    "import numpy as np\n",
    "\n",
    "X_train_ini = np.load('Xtrain_Regression_Part1.npy')\n",
    "Y_train_ini = np.load('Ytrain_Regression_Part1.npy')\n",
    "\n",
    "X_test = np.load('Xtest_Regression_Part1.npy')"
   ]
  },
  {
   "cell_type": "markdown",
   "metadata": {},
   "source": [
    "# Define cross-validation method"
   ]
  },
  {
   "cell_type": "code",
   "execution_count": 635,
   "metadata": {},
   "outputs": [],
   "source": [
    "from sklearn.model_selection import RepeatedKFold\n",
    "\n",
    "round_digits = 7\n",
    "#random_state = 1\n",
    "random_state = None\n",
    "\n",
    "# define model evaluation method (repeats k-folds n times, with k-folds=n_splits and n=n_repeats)\n",
    "cv = RepeatedKFold(n_splits=10, n_repeats=3, random_state=random_state)"
   ]
  },
  {
   "cell_type": "markdown",
   "metadata": {},
   "source": [
    "# Set train and validation samples"
   ]
  },
  {
   "cell_type": "code",
   "execution_count": 636,
   "metadata": {},
   "outputs": [],
   "source": [
    "from sklearn.model_selection import train_test_split\n",
    "\n",
    "x_train, x_val, y_train, y_val = train_test_split(X_train_ini, Y_train_ini, \n",
    "                                                  random_state=random_state, \n",
    "                                                  shuffle=True, test_size=1/3)\n"
   ]
  },
  {
   "cell_type": "markdown",
   "metadata": {},
   "source": [
    "# Train the linear regression model"
   ]
  },
  {
   "cell_type": "code",
   "execution_count": 637,
   "metadata": {},
   "outputs": [
    {
     "name": "stdout",
     "output_type": "stream",
     "text": [
      "R²: 0.9994361\n"
     ]
    }
   ],
   "source": [
    "from sklearn.linear_model import LinearRegression\n",
    "\n",
    "# Ordinary least squares Linear Regression\n",
    "lr = LinearRegression()\n",
    "lr.fit(x_train, y_train)\n",
    "\n",
    "# Training score\n",
    "R2 = lr.score(x_train, y_train)\n",
    "print('R²:', round(R2, round_digits))"
   ]
  },
  {
   "cell_type": "markdown",
   "metadata": {},
   "source": [
    "# MSE for training data"
   ]
  },
  {
   "cell_type": "code",
   "execution_count": 638,
   "metadata": {},
   "outputs": [
    {
     "name": "stdout",
     "output_type": "stream",
     "text": [
      "MSE: 0.0085847\n",
      "R²: 0.9994361\n"
     ]
    }
   ],
   "source": [
    "from numpy import round\n",
    "from sklearn.metrics import mean_squared_error, r2_score\n",
    "\n",
    "y_hat_lr_train = lr.predict(x_train)\n",
    "\n",
    "OLS_lr_MSE_predicted_train = round(mean_squared_error(y_train, y_hat_lr_train, squared=True), round_digits)\n",
    "print('MSE:', OLS_lr_MSE_predicted_train)\n",
    "print('R²:', round(r2_score(y_train, y_hat_lr_train), round_digits))"
   ]
  },
  {
   "cell_type": "markdown",
   "metadata": {},
   "source": [
    "# Print the coeficients and the intercept"
   ]
  },
  {
   "cell_type": "code",
   "execution_count": 639,
   "metadata": {},
   "outputs": [
    {
     "name": "stdout",
     "output_type": "stream",
     "text": [
      "Coef.: [[ 0.0346244  -0.01243518  0.08162367  0.33326577 -0.65326003  1.69899781\n",
      "   0.05504587  1.79735278  0.02208676 -0.0040372  -1.45850423 -0.70648537\n",
      "   0.02863855 -0.60465255  0.01090581 -0.36618762 -0.13616055 -1.37292635\n",
      "  -1.29161461  0.96281263]]\n",
      "Intercept: [-0.00868824]\n"
     ]
    }
   ],
   "source": [
    "print('Coef.:', lr.coef_)\n",
    "print('Intercept:', lr.intercept_)"
   ]
  },
  {
   "cell_type": "markdown",
   "metadata": {},
   "source": [
    "# Prediction and performance measures"
   ]
  },
  {
   "cell_type": "code",
   "execution_count": 640,
   "metadata": {},
   "outputs": [
    {
     "name": "stdout",
     "output_type": "stream",
     "text": [
      "MSE: 0.0175628\n",
      "R²: 0.9988211\n"
     ]
    }
   ],
   "source": [
    "from sklearn.metrics import mean_squared_error, r2_score\n",
    "\n",
    "# Prediction on validation data\n",
    "y_pred = lr.predict(x_val)\n",
    "\n",
    "# Scores on validation data\n",
    "#print('RMSE: %.5f' % mean_squared_error(y_val, y_pred, squared=False))\n",
    "#print('SSE:', round(y_pred.size * mean_squared_error(y_val, y_pred, squared=True), 5))\n",
    "\n",
    "OLS_lr_MSE_predicted_val = round(mean_squared_error(y_val, y_pred, squared=True), round_digits)\n",
    "\n",
    "print('MSE:', OLS_lr_MSE_predicted_val)\n",
    "print('R²:', round(r2_score(y_val, y_pred), round_digits))\n"
   ]
  },
  {
   "cell_type": "markdown",
   "metadata": {},
   "source": [
    "# Cross-validation performance measures"
   ]
  },
  {
   "cell_type": "code",
   "execution_count": 641,
   "metadata": {},
   "outputs": [
    {
     "name": "stdout",
     "output_type": "stream",
     "text": [
      "score MSE: [-0.03130917 -0.0220965  -0.01726631 -0.02416971 -0.01984054 -0.02262922\n",
      " -0.01449908 -0.01553112 -0.01147981 -0.01591376 -0.0136434  -0.01166018\n",
      " -0.01374315 -0.02489465 -0.03410001 -0.02007365 -0.01723285 -0.00841482\n",
      " -0.01293761 -0.02058394 -0.01907184 -0.02430749 -0.01044349 -0.01789852\n",
      " -0.00528341 -0.03476852 -0.05104711 -0.02538341 -0.01013346 -0.0080803 ]\n",
      "MSE: 0.0192812   std: 0.0093706\n"
     ]
    }
   ],
   "source": [
    "from sklearn.model_selection import cross_validate, cross_val_score\n",
    "from numpy import absolute\n",
    "\n",
    "# Evaluate the model with cross-validation \n",
    "score = cross_val_score(lr, x_train, y_train, cv=cv,\n",
    "                        scoring='neg_mean_squared_error')\n",
    "\n",
    "OLS_lr_MSE_cv_train = round(absolute(score.mean()), round_digits)\n",
    "\n",
    "print('score MSE:', score)\n",
    "print(\"MSE:\", OLS_lr_MSE_cv_train, '  std:', round(score.std(), round_digits))"
   ]
  },
  {
   "cell_type": "markdown",
   "metadata": {},
   "source": [
    "# Ridge regression\n",
    "\n",
    "Linear least squares with l2 regularization.\n",
    "\n",
    "Minimizes the objective function:\n",
    "\n",
    "$ \\ ||y - Xw||^2_2 + alpha * ||w||^2_2 $"
   ]
  },
  {
   "cell_type": "markdown",
   "metadata": {},
   "source": [
    "# Train rigde regression model"
   ]
  },
  {
   "cell_type": "code",
   "execution_count": 642,
   "metadata": {},
   "outputs": [
    {
     "name": "stdout",
     "output_type": "stream",
     "text": [
      "Fitting 30 folds for each of 100 candidates, totalling 3000 fits\n",
      "Ridge Coef.: [[ 0.03427928 -0.01355077  0.08039951  0.33297524 -0.65138286  1.69693016\n",
      "   0.05593936  1.79383638  0.02209371 -0.00425667 -1.45582166 -0.70682687\n",
      "   0.02899441 -0.60429744  0.0114378  -0.36601241 -0.13535202 -1.36995839\n",
      "  -1.29010011  0.96225611]]\n",
      "Ridge Intercept: [-0.00877692]\n",
      "Ridge best params: {'alpha': 0.08}\n",
      "Ridge MSE: 0.0206884\n"
     ]
    }
   ],
   "source": [
    "from sklearn.linear_model import Ridge\n",
    "from sklearn.model_selection import GridSearchCV\n",
    "from numpy import arange\n",
    "\n",
    "ridge = Ridge()\n",
    "\n",
    "parameters = {'alpha': arange(0, 1, 0.01)}\n",
    "\n",
    "ridge_lr = GridSearchCV(ridge, parameters, scoring='neg_mean_squared_error', cv=cv, refit=True, verbose=1)\n",
    "ridge_lr.fit(x_train, y_train)\n",
    "\n",
    "print('Ridge Coef.:', ridge_lr.best_estimator_.coef_)\n",
    "print('Ridge Intercept:', ridge_lr.best_estimator_.intercept_)\n",
    "\n",
    "ridge_MSE_cv_train = round(absolute(ridge_lr.best_score_), round_digits)\n",
    "\n",
    "print('Ridge best params:', ridge_lr.best_params_ )\n",
    "print('Ridge MSE:', ridge_MSE_cv_train)"
   ]
  },
  {
   "cell_type": "markdown",
   "metadata": {},
   "source": [
    "best_estimator_:\n",
    "\n",
    "Estimator that was chosen by the search, i.e. estimator which gave highest score (or smallest loss if specified) on the left out data. Not available if refit=False.\n",
    "\n",
    "best_score_:\n",
    "\n",
    "Mean cross-validated score of the best_estimator\n",
    "\n",
    "best_params_:\n",
    "\n",
    "Parameter setting that gave the best results on the hold out data.\n",
    "\n",
    "Importantly, we can configure the hyperparameter search to refit a final model with the entire training dataset using the best hyperparameters found during the search. This can be achieved by setting the “refit” argument to True, then retrieving the model via the “best_estimator_” attribute on the search result.\n"
   ]
  },
  {
   "cell_type": "code",
   "execution_count": 643,
   "metadata": {},
   "outputs": [
    {
     "name": "stdout",
     "output_type": "stream",
     "text": [
      "-0.020688425944083204\n",
      "Ridge(alpha=0.08)\n",
      "{'alpha': 0.08}\n"
     ]
    }
   ],
   "source": [
    "print(ridge_lr.best_score_)\n",
    "print(ridge_lr.best_estimator_)\n",
    "print(ridge_lr.best_params_)"
   ]
  },
  {
   "cell_type": "code",
   "execution_count": 644,
   "metadata": {},
   "outputs": [
    {
     "name": "stdout",
     "output_type": "stream",
     "text": [
      "MSE ridge: 0.0175963\n"
     ]
    }
   ],
   "source": [
    "y_hat_ridge = ridge_lr.best_estimator_.predict(x_val)\n",
    "\n",
    "ridge_MSE_predicted_val = round(mean_squared_error(y_val, y_hat_ridge, squared=True), round_digits) \n",
    "print('MSE ridge:', ridge_MSE_predicted_val)"
   ]
  },
  {
   "cell_type": "markdown",
   "metadata": {},
   "source": [
    "# Train Lasso regression model\n",
    "\n",
    "https://medium.com/pursuitnotes/day-34-regularization-in-machine-learning-3-c37c336b079c"
   ]
  },
  {
   "cell_type": "markdown",
   "metadata": {},
   "source": [
    "Linear Model trained with L1 prior as regularizer (aka the Lasso).\n",
    "\n",
    "The optimization objective for Lasso is:\n",
    "\n",
    "$\\ (1 / (2 * n samples)) * ||y - Xw||^2_2 + alpha * ||w||_1 $"
   ]
  },
  {
   "cell_type": "code",
   "execution_count": 645,
   "metadata": {},
   "outputs": [
    {
     "name": "stdout",
     "output_type": "stream",
     "text": [
      "Lasso Coef.: [ 0.03276565 -0.01200024  0.08038537  0.33103384 -0.65249745  1.6985844\n",
      "  0.05392691  1.79602991  0.02055651 -0.0032033  -1.45727654 -0.70661485\n",
      "  0.02780045 -0.60405259  0.01059724 -0.36554638 -0.13476266 -1.37112496\n",
      " -1.29034953  0.96286233]\n",
      "Lasso Intercept: [-0.0086366]\n",
      "Lasso best params: {'alpha': 0.0009}\n",
      "Lasso MSE: 0.0178631\n"
     ]
    }
   ],
   "source": [
    "from sklearn.model_selection import GridSearchCV\n",
    "from sklearn.linear_model import Lasso\n",
    "\n",
    "lasso = Lasso()\n",
    "#parameters = {'alpha': [1e-15, 1e-10, 1e-8, 1e-4, 1e-3,1e-2, 1, 5, 10, 20]}\n",
    "parameters = {'alpha': arange(0.0009, 0.002, 0.0001)}\n",
    "\n",
    "lasso_lr = GridSearchCV(lasso, parameters, scoring='neg_mean_squared_error', cv = cv)\n",
    "lasso_lr.fit(x_train, y_train)\n",
    "\n",
    "print('Lasso Coef.:', lasso_lr.best_estimator_.coef_)\n",
    "print('Lasso Intercept:', lasso_lr.best_estimator_.intercept_)\n",
    "\n",
    "print('Lasso best params:', lasso_lr.best_params_ )\n",
    "\n",
    "lasso_MSE_cv_train = round(absolute(lasso_lr.best_score_), round_digits)\n",
    "print('Lasso MSE:', lasso_MSE_cv_train)"
   ]
  },
  {
   "cell_type": "code",
   "execution_count": 646,
   "metadata": {},
   "outputs": [
    {
     "name": "stdout",
     "output_type": "stream",
     "text": [
      "MSE lasso: 0.0175307\n"
     ]
    }
   ],
   "source": [
    "y_hat_lasso = lasso_lr.best_estimator_.predict(x_val)\n",
    "\n",
    "lasso_MSE_predicted_val = round(mean_squared_error(y_val, y_hat_lasso, squared=True), round_digits)\n",
    "print('MSE lasso:', lasso_MSE_predicted_val)"
   ]
  },
  {
   "cell_type": "markdown",
   "metadata": {},
   "source": [
    "# Print all MSE results and save to CSV file"
   ]
  },
  {
   "cell_type": "code",
   "execution_count": 647,
   "metadata": {},
   "outputs": [
    {
     "name": "stdout",
     "output_type": "stream",
     "text": [
      "################ OLS Regression ################\n",
      "OLS_lr_MSE_predicted_train: 0.0085847\n",
      "OLS_lr_MSE_cv_train: 0.0192812\n",
      "OLS_lr_MSE_predicted_val: 0.0175628\n",
      "\n",
      "#################### Ridge ####################\n",
      "ridge_cv_train: 0.0206884\n",
      "ridge_predicted_val: 0.0175963\n",
      "\n",
      "#################### Lasso ####################\n",
      "lasso_MSE_cv_train: 0.0178631\n",
      "lasso_MSE_predicted_val: 0.0175307\n"
     ]
    }
   ],
   "source": [
    "print('################ OLS Regression ################')\n",
    "print('OLS_lr_MSE_predicted_train:', OLS_lr_MSE_predicted_train)\n",
    "print('OLS_lr_MSE_cv_train:', OLS_lr_MSE_cv_train)\n",
    "print('OLS_lr_MSE_predicted_val:', OLS_lr_MSE_predicted_val)\n",
    "print('')\n",
    "\n",
    "print('#################### Ridge ####################')\n",
    "print('ridge_cv_train:', ridge_MSE_cv_train)\n",
    "print('ridge_predicted_val:', ridge_MSE_predicted_val)\n",
    "print('')\n",
    "\n",
    "print('#################### Lasso ####################')\n",
    "print('lasso_MSE_cv_train:', lasso_MSE_cv_train)\n",
    "print('lasso_MSE_predicted_val:', lasso_MSE_predicted_val)\n"
   ]
  },
  {
   "cell_type": "code",
   "execution_count": 652,
   "metadata": {},
   "outputs": [],
   "source": [
    "import csv\n",
    "\n",
    "f = open('AAut_Project_part1_results.csv', mode='a')\n",
    "\n",
    "\n",
    "writer = csv.writer(f)\n",
    "sep1 = ';'\n",
    "\n",
    "row1 = str(OLS_lr_MSE_cv_train) + sep1 + str(OLS_lr_MSE_predicted_val) + sep1 + \\\n",
    "       str(ridge_cv_train) + sep1 + str(ridge_predicted_val) + sep1 + \\\n",
    "       str(lasso_MSE_cv_train) + sep1 + str(lasso_MSE_predicted_val)\n",
    "\n",
    "# write a row to the csv file\n",
    "writer.writerow(row1)\n",
    "\n",
    "# close the file\n",
    "f.close()"
   ]
  }
 ],
 "metadata": {
  "interpreter": {
   "hash": "c06ffbe8fb2a8558454920029e727a67b66eedb069458540b3de1c4d1a86d388"
  },
  "kernelspec": {
   "display_name": "Python 3.8.11 64-bit ('AAut': conda)",
   "name": "python3"
  },
  "language_info": {
   "codemirror_mode": {
    "name": "ipython",
    "version": 3
   },
   "file_extension": ".py",
   "mimetype": "text/x-python",
   "name": "python",
   "nbconvert_exporter": "python",
   "pygments_lexer": "ipython3",
   "version": "3.8.11"
  },
  "orig_nbformat": 4
 },
 "nbformat": 4,
 "nbformat_minor": 2
}
