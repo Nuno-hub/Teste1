{
 "cells": [
  {
   "cell_type": "markdown",
   "metadata": {},
   "source": [
    "# Regression - Part 1"
   ]
  },
  {
   "cell_type": "markdown",
   "metadata": {},
   "source": [
    "# Load the data"
   ]
  },
  {
   "cell_type": "code",
   "execution_count": 26,
   "metadata": {},
   "outputs": [
    {
     "data": {
      "text/html": [
       "<div>\n",
       "<style scoped>\n",
       "    .dataframe tbody tr th:only-of-type {\n",
       "        vertical-align: middle;\n",
       "    }\n",
       "\n",
       "    .dataframe tbody tr th {\n",
       "        vertical-align: top;\n",
       "    }\n",
       "\n",
       "    .dataframe thead th {\n",
       "        text-align: right;\n",
       "    }\n",
       "</style>\n",
       "<table border=\"1\" class=\"dataframe\">\n",
       "  <thead>\n",
       "    <tr style=\"text-align: right;\">\n",
       "      <th></th>\n",
       "      <th>0</th>\n",
       "      <th>1</th>\n",
       "      <th>2</th>\n",
       "      <th>3</th>\n",
       "      <th>4</th>\n",
       "      <th>5</th>\n",
       "      <th>6</th>\n",
       "      <th>7</th>\n",
       "      <th>8</th>\n",
       "      <th>9</th>\n",
       "      <th>10</th>\n",
       "      <th>11</th>\n",
       "      <th>12</th>\n",
       "      <th>13</th>\n",
       "      <th>14</th>\n",
       "      <th>15</th>\n",
       "      <th>16</th>\n",
       "      <th>17</th>\n",
       "      <th>18</th>\n",
       "      <th>19</th>\n",
       "    </tr>\n",
       "  </thead>\n",
       "  <tbody>\n",
       "    <tr>\n",
       "      <th>count</th>\n",
       "      <td>100.000000</td>\n",
       "      <td>100.000000</td>\n",
       "      <td>100.000000</td>\n",
       "      <td>100.000000</td>\n",
       "      <td>100.000000</td>\n",
       "      <td>100.000000</td>\n",
       "      <td>100.000000</td>\n",
       "      <td>100.000000</td>\n",
       "      <td>100.000000</td>\n",
       "      <td>100.000000</td>\n",
       "      <td>100.000000</td>\n",
       "      <td>100.000000</td>\n",
       "      <td>100.000000</td>\n",
       "      <td>100.000000</td>\n",
       "      <td>100.000000</td>\n",
       "      <td>100.000000</td>\n",
       "      <td>100.000000</td>\n",
       "      <td>100.000000</td>\n",
       "      <td>100.000000</td>\n",
       "      <td>100.000000</td>\n",
       "    </tr>\n",
       "    <tr>\n",
       "      <th>mean</th>\n",
       "      <td>0.052027</td>\n",
       "      <td>-0.041115</td>\n",
       "      <td>0.118268</td>\n",
       "      <td>0.068948</td>\n",
       "      <td>-0.035720</td>\n",
       "      <td>-0.003925</td>\n",
       "      <td>-0.098560</td>\n",
       "      <td>-0.068887</td>\n",
       "      <td>-0.099260</td>\n",
       "      <td>-0.007554</td>\n",
       "      <td>-0.135931</td>\n",
       "      <td>-0.045512</td>\n",
       "      <td>-0.095868</td>\n",
       "      <td>0.054103</td>\n",
       "      <td>0.164366</td>\n",
       "      <td>-0.089254</td>\n",
       "      <td>0.065522</td>\n",
       "      <td>-0.054030</td>\n",
       "      <td>0.118971</td>\n",
       "      <td>-0.079716</td>\n",
       "    </tr>\n",
       "    <tr>\n",
       "      <th>std</th>\n",
       "      <td>0.935609</td>\n",
       "      <td>1.077782</td>\n",
       "      <td>1.093894</td>\n",
       "      <td>1.000061</td>\n",
       "      <td>0.918992</td>\n",
       "      <td>1.072017</td>\n",
       "      <td>1.032213</td>\n",
       "      <td>1.064416</td>\n",
       "      <td>1.020431</td>\n",
       "      <td>1.159553</td>\n",
       "      <td>0.969119</td>\n",
       "      <td>1.038775</td>\n",
       "      <td>1.014917</td>\n",
       "      <td>0.991142</td>\n",
       "      <td>0.973940</td>\n",
       "      <td>1.053015</td>\n",
       "      <td>1.060823</td>\n",
       "      <td>0.937124</td>\n",
       "      <td>0.964376</td>\n",
       "      <td>1.068615</td>\n",
       "    </tr>\n",
       "    <tr>\n",
       "      <th>min</th>\n",
       "      <td>-2.482843</td>\n",
       "      <td>-2.872751</td>\n",
       "      <td>-2.796024</td>\n",
       "      <td>-2.057251</td>\n",
       "      <td>-2.122378</td>\n",
       "      <td>-2.380476</td>\n",
       "      <td>-2.372749</td>\n",
       "      <td>-2.366324</td>\n",
       "      <td>-2.032843</td>\n",
       "      <td>-2.938220</td>\n",
       "      <td>-2.285898</td>\n",
       "      <td>-2.601013</td>\n",
       "      <td>-2.677900</td>\n",
       "      <td>-2.587899</td>\n",
       "      <td>-1.856128</td>\n",
       "      <td>-2.315284</td>\n",
       "      <td>-2.111427</td>\n",
       "      <td>-2.164961</td>\n",
       "      <td>-2.246069</td>\n",
       "      <td>-2.538732</td>\n",
       "    </tr>\n",
       "    <tr>\n",
       "      <th>25%</th>\n",
       "      <td>-0.551789</td>\n",
       "      <td>-0.838720</td>\n",
       "      <td>-0.553236</td>\n",
       "      <td>-0.628760</td>\n",
       "      <td>-0.705415</td>\n",
       "      <td>-0.810644</td>\n",
       "      <td>-0.784590</td>\n",
       "      <td>-0.791187</td>\n",
       "      <td>-0.922019</td>\n",
       "      <td>-0.875044</td>\n",
       "      <td>-0.833889</td>\n",
       "      <td>-0.598177</td>\n",
       "      <td>-0.697535</td>\n",
       "      <td>-0.548403</td>\n",
       "      <td>-0.573968</td>\n",
       "      <td>-0.893427</td>\n",
       "      <td>-0.557300</td>\n",
       "      <td>-0.745234</td>\n",
       "      <td>-0.414598</td>\n",
       "      <td>-0.738185</td>\n",
       "    </tr>\n",
       "    <tr>\n",
       "      <th>50%</th>\n",
       "      <td>0.148943</td>\n",
       "      <td>0.022287</td>\n",
       "      <td>0.090088</td>\n",
       "      <td>0.113396</td>\n",
       "      <td>-0.105737</td>\n",
       "      <td>-0.013025</td>\n",
       "      <td>-0.143552</td>\n",
       "      <td>-0.119593</td>\n",
       "      <td>-0.053035</td>\n",
       "      <td>-0.098616</td>\n",
       "      <td>-0.190909</td>\n",
       "      <td>-0.104015</td>\n",
       "      <td>-0.096946</td>\n",
       "      <td>0.208924</td>\n",
       "      <td>0.175738</td>\n",
       "      <td>-0.118614</td>\n",
       "      <td>-0.026291</td>\n",
       "      <td>0.075819</td>\n",
       "      <td>0.119120</td>\n",
       "      <td>-0.140900</td>\n",
       "    </tr>\n",
       "    <tr>\n",
       "      <th>75%</th>\n",
       "      <td>0.751129</td>\n",
       "      <td>0.675509</td>\n",
       "      <td>0.768647</td>\n",
       "      <td>0.729872</td>\n",
       "      <td>0.590200</td>\n",
       "      <td>0.797759</td>\n",
       "      <td>0.549076</td>\n",
       "      <td>0.744640</td>\n",
       "      <td>0.611136</td>\n",
       "      <td>0.752242</td>\n",
       "      <td>0.428253</td>\n",
       "      <td>0.547546</td>\n",
       "      <td>0.472003</td>\n",
       "      <td>0.657044</td>\n",
       "      <td>0.774874</td>\n",
       "      <td>0.585945</td>\n",
       "      <td>0.649019</td>\n",
       "      <td>0.519370</td>\n",
       "      <td>0.656385</td>\n",
       "      <td>0.662848</td>\n",
       "    </tr>\n",
       "    <tr>\n",
       "      <th>max</th>\n",
       "      <td>2.018496</td>\n",
       "      <td>2.565910</td>\n",
       "      <td>3.206908</td>\n",
       "      <td>2.014134</td>\n",
       "      <td>2.887723</td>\n",
       "      <td>2.945547</td>\n",
       "      <td>2.680118</td>\n",
       "      <td>2.205565</td>\n",
       "      <td>2.955089</td>\n",
       "      <td>3.533658</td>\n",
       "      <td>2.284313</td>\n",
       "      <td>2.155180</td>\n",
       "      <td>2.305530</td>\n",
       "      <td>2.842647</td>\n",
       "      <td>2.521212</td>\n",
       "      <td>2.166671</td>\n",
       "      <td>3.820746</td>\n",
       "      <td>2.154697</td>\n",
       "      <td>2.709772</td>\n",
       "      <td>2.371907</td>\n",
       "    </tr>\n",
       "  </tbody>\n",
       "</table>\n",
       "</div>"
      ],
      "text/plain": [
       "               0           1           2           3           4           5   \\\n",
       "count  100.000000  100.000000  100.000000  100.000000  100.000000  100.000000   \n",
       "mean     0.052027   -0.041115    0.118268    0.068948   -0.035720   -0.003925   \n",
       "std      0.935609    1.077782    1.093894    1.000061    0.918992    1.072017   \n",
       "min     -2.482843   -2.872751   -2.796024   -2.057251   -2.122378   -2.380476   \n",
       "25%     -0.551789   -0.838720   -0.553236   -0.628760   -0.705415   -0.810644   \n",
       "50%      0.148943    0.022287    0.090088    0.113396   -0.105737   -0.013025   \n",
       "75%      0.751129    0.675509    0.768647    0.729872    0.590200    0.797759   \n",
       "max      2.018496    2.565910    3.206908    2.014134    2.887723    2.945547   \n",
       "\n",
       "               6           7           8           9           10          11  \\\n",
       "count  100.000000  100.000000  100.000000  100.000000  100.000000  100.000000   \n",
       "mean    -0.098560   -0.068887   -0.099260   -0.007554   -0.135931   -0.045512   \n",
       "std      1.032213    1.064416    1.020431    1.159553    0.969119    1.038775   \n",
       "min     -2.372749   -2.366324   -2.032843   -2.938220   -2.285898   -2.601013   \n",
       "25%     -0.784590   -0.791187   -0.922019   -0.875044   -0.833889   -0.598177   \n",
       "50%     -0.143552   -0.119593   -0.053035   -0.098616   -0.190909   -0.104015   \n",
       "75%      0.549076    0.744640    0.611136    0.752242    0.428253    0.547546   \n",
       "max      2.680118    2.205565    2.955089    3.533658    2.284313    2.155180   \n",
       "\n",
       "               12          13          14          15          16          17  \\\n",
       "count  100.000000  100.000000  100.000000  100.000000  100.000000  100.000000   \n",
       "mean    -0.095868    0.054103    0.164366   -0.089254    0.065522   -0.054030   \n",
       "std      1.014917    0.991142    0.973940    1.053015    1.060823    0.937124   \n",
       "min     -2.677900   -2.587899   -1.856128   -2.315284   -2.111427   -2.164961   \n",
       "25%     -0.697535   -0.548403   -0.573968   -0.893427   -0.557300   -0.745234   \n",
       "50%     -0.096946    0.208924    0.175738   -0.118614   -0.026291    0.075819   \n",
       "75%      0.472003    0.657044    0.774874    0.585945    0.649019    0.519370   \n",
       "max      2.305530    2.842647    2.521212    2.166671    3.820746    2.154697   \n",
       "\n",
       "               18          19  \n",
       "count  100.000000  100.000000  \n",
       "mean     0.118971   -0.079716  \n",
       "std      0.964376    1.068615  \n",
       "min     -2.246069   -2.538732  \n",
       "25%     -0.414598   -0.738185  \n",
       "50%      0.119120   -0.140900  \n",
       "75%      0.656385    0.662848  \n",
       "max      2.709772    2.371907  "
      ]
     },
     "execution_count": 26,
     "metadata": {},
     "output_type": "execute_result"
    }
   ],
   "source": [
    "import numpy as np\n",
    "import pandas as pd\n",
    "\n",
    "X_train_ini = np.load('Xtrain_Regression_Part1.npy')\n",
    "Y_train_ini = np.load('Ytrain_Regression_Part1.npy')\n",
    "\n",
    "X_test = np.load('Xtest_Regression_Part1.npy')\n",
    "\n",
    "\n",
    "df = pd.DataFrame(X_train_ini)\n",
    "df.describe()"
   ]
  },
  {
   "cell_type": "markdown",
   "metadata": {},
   "source": [
    "# Define cross-validation method"
   ]
  },
  {
   "cell_type": "code",
   "execution_count": 2,
   "metadata": {},
   "outputs": [],
   "source": [
    "from sklearn.model_selection import RepeatedKFold\n",
    "\n",
    "round_digits = 7\n",
    "#random_state = 1\n",
    "random_state = None\n",
    "\n",
    "# define model evaluation method (repeats k-folds n times, with k-folds=n_splits and n=n_repeats)\n",
    "cv = RepeatedKFold(n_splits=10, n_repeats=3, random_state=random_state)"
   ]
  },
  {
   "cell_type": "markdown",
   "metadata": {},
   "source": [
    "# Set train and validation samples"
   ]
  },
  {
   "cell_type": "code",
   "execution_count": 3,
   "metadata": {},
   "outputs": [],
   "source": [
    "from sklearn.model_selection import train_test_split\n",
    "\n",
    "x_train, x_val, y_train, y_val = train_test_split(X_train_ini, Y_train_ini, \n",
    "                                                  random_state=random_state, \n",
    "                                                  shuffle=True, test_size=1/3)\n"
   ]
  },
  {
   "cell_type": "markdown",
   "metadata": {},
   "source": [
    "# Train the linear regression model"
   ]
  },
  {
   "cell_type": "code",
   "execution_count": 4,
   "metadata": {},
   "outputs": [
    {
     "name": "stdout",
     "output_type": "stream",
     "text": [
      "R²: 0.9993907\n"
     ]
    }
   ],
   "source": [
    "from sklearn.linear_model import LinearRegression\n",
    "\n",
    "# Ordinary least squares Linear Regression\n",
    "lr = LinearRegression()\n",
    "lr.fit(x_train, y_train)\n",
    "\n",
    "# Training score\n",
    "R2 = lr.score(x_train, y_train)\n",
    "print('R²:', round(R2, round_digits))"
   ]
  },
  {
   "cell_type": "markdown",
   "metadata": {},
   "source": [
    "# MSE for training data"
   ]
  },
  {
   "cell_type": "code",
   "execution_count": 5,
   "metadata": {},
   "outputs": [
    {
     "name": "stdout",
     "output_type": "stream",
     "text": [
      "MSE: 0.0091687\n",
      "R²: 0.9993907\n"
     ]
    }
   ],
   "source": [
    "from numpy import round\n",
    "from sklearn.metrics import mean_squared_error, r2_score\n",
    "\n",
    "y_hat_lr_train = lr.predict(x_train)\n",
    "\n",
    "OLS_lr_MSE_predicted_train = round(mean_squared_error(y_train, y_hat_lr_train, squared=True), round_digits)\n",
    "print('MSE:', OLS_lr_MSE_predicted_train)\n",
    "print('R²:', round(r2_score(y_train, y_hat_lr_train), round_digits))"
   ]
  },
  {
   "cell_type": "markdown",
   "metadata": {},
   "source": [
    "# Print the coeficients and the intercept"
   ]
  },
  {
   "cell_type": "code",
   "execution_count": 6,
   "metadata": {},
   "outputs": [
    {
     "name": "stdout",
     "output_type": "stream",
     "text": [
      "Coef.: [[ 0.02130623  0.00767536  0.0850244   0.33822049 -0.68362829  1.70195411\n",
      "   0.05454797  1.82824659  0.0090089  -0.01343724 -1.4677882  -0.71344479\n",
      "   0.0315311  -0.63316395  0.00206907 -0.37952533 -0.13375244 -1.35961556\n",
      "  -1.27440435  0.96309363]]\n",
      "Intercept: [-0.01432138]\n"
     ]
    }
   ],
   "source": [
    "print('Coef.:', lr.coef_)\n",
    "print('Intercept:', lr.intercept_)"
   ]
  },
  {
   "cell_type": "markdown",
   "metadata": {},
   "source": [
    "# Prediction and performance measures"
   ]
  },
  {
   "cell_type": "code",
   "execution_count": 7,
   "metadata": {},
   "outputs": [
    {
     "name": "stdout",
     "output_type": "stream",
     "text": [
      "MSE: 0.0129743\n",
      "R²: 0.9989936\n"
     ]
    }
   ],
   "source": [
    "from sklearn.metrics import mean_squared_error, r2_score\n",
    "\n",
    "# Prediction on validation data\n",
    "y_pred = lr.predict(x_val)\n",
    "\n",
    "# Scores on validation data\n",
    "#print('RMSE: %.5f' % mean_squared_error(y_val, y_pred, squared=False))\n",
    "#print('SSE:', round(y_pred.size * mean_squared_error(y_val, y_pred, squared=True), 5))\n",
    "\n",
    "OLS_lr_MSE_predicted_val = round(mean_squared_error(y_val, y_pred, squared=True), round_digits)\n",
    "\n",
    "print('MSE:', OLS_lr_MSE_predicted_val)\n",
    "print('R²:', round(r2_score(y_val, y_pred), round_digits))\n"
   ]
  },
  {
   "cell_type": "markdown",
   "metadata": {},
   "source": [
    "# Cross-validation performance measures"
   ]
  },
  {
   "cell_type": "code",
   "execution_count": 19,
   "metadata": {},
   "outputs": [
    {
     "name": "stdout",
     "output_type": "stream",
     "text": [
      "score MSE: [-0.01904948 -0.01795221 -0.003176   -0.01704868 -0.01593636 -0.02647477\n",
      " -0.01440551 -0.02581994 -0.05719169 -0.02330868 -0.02015646 -0.02305992\n",
      " -0.04543166 -0.01760917 -0.0072657  -0.00114713 -0.00969899 -0.0194671\n",
      " -0.04217251 -0.00963585 -0.00985819 -0.0112846  -0.01520992 -0.01670365\n",
      " -0.03834499 -0.03231453 -0.02212671 -0.01474827 -0.02229181 -0.01176883]\n",
      "MSE: 0.0203553   std: 0.0122497\n",
      "std: 0.012249704903880238\n"
     ]
    }
   ],
   "source": [
    "from sklearn.model_selection import cross_validate, cross_val_score\n",
    "from numpy import absolute\n",
    "\n",
    "# Evaluate the model with cross-validation \n",
    "score = cross_val_score(lr, x_train, y_train, cv=cv,\n",
    "                        scoring='neg_mean_squared_error')\n",
    "\n",
    "OLS_lr_MSE_cv_train = round(absolute(score.mean()), round_digits)\n",
    "\n",
    "print('score MSE:', score)\n",
    "print(\"MSE:\", OLS_lr_MSE_cv_train, '  std:', round(score.std(), round_digits))\n",
    "\n",
    "#print('std:', np.std(score))"
   ]
  },
  {
   "cell_type": "markdown",
   "metadata": {},
   "source": [
    "# Ridge regression\n",
    "\n",
    "Linear least squares with l2 regularization.\n",
    "\n",
    "Minimizes the objective function:\n",
    "\n",
    "$ \\ ||y - Xw||^2_2 + alpha * ||w||^2_2 $"
   ]
  },
  {
   "cell_type": "markdown",
   "metadata": {},
   "source": [
    "# Train rigde regression model"
   ]
  },
  {
   "cell_type": "code",
   "execution_count": 9,
   "metadata": {},
   "outputs": [
    {
     "name": "stdout",
     "output_type": "stream",
     "text": [
      "Fitting 30 folds for each of 100 candidates, totalling 3000 fits\n",
      "Ridge Coef.: [[ 0.02130623  0.00767536  0.0850244   0.33822049 -0.68362829  1.70195411\n",
      "   0.05454797  1.82824659  0.0090089  -0.01343724 -1.4677882  -0.71344479\n",
      "   0.0315311  -0.63316395  0.00206907 -0.37952533 -0.13375244 -1.35961556\n",
      "  -1.27440435  0.96309363]]\n",
      "Ridge Intercept: [-0.01432138]\n",
      "Ridge best params: {'alpha': 0.0}\n",
      "Ridge MSE: 0.021501\n"
     ]
    }
   ],
   "source": [
    "from sklearn.linear_model import Ridge\n",
    "from sklearn.model_selection import GridSearchCV\n",
    "from numpy import arange\n",
    "\n",
    "ridge = Ridge()\n",
    "\n",
    "parameters = {'alpha': arange(0, 1, 0.01)}\n",
    "\n",
    "ridge_lr = GridSearchCV(ridge, parameters, scoring='neg_mean_squared_error', cv=cv, refit=True, verbose=1)\n",
    "ridge_lr.fit(x_train, y_train)\n",
    "\n",
    "print('Ridge Coef.:', ridge_lr.best_estimator_.coef_)\n",
    "print('Ridge Intercept:', ridge_lr.best_estimator_.intercept_)\n",
    "\n",
    "ridge_MSE_cv_train = round(absolute(ridge_lr.best_score_), round_digits)\n",
    "\n",
    "print('Ridge best params:', ridge_lr.best_params_ )\n",
    "print('Ridge MSE:', ridge_MSE_cv_train)"
   ]
  },
  {
   "cell_type": "markdown",
   "metadata": {},
   "source": [
    "best_estimator_:\n",
    "\n",
    "Estimator that was chosen by the search, i.e. estimator which gave highest score (or smallest loss if specified) on the left out data. Not available if refit=False.\n",
    "\n",
    "best_score_:\n",
    "\n",
    "Mean cross-validated score of the best_estimator\n",
    "\n",
    "best_params_:\n",
    "\n",
    "Parameter setting that gave the best results on the hold out data.\n",
    "\n",
    "Importantly, we can configure the hyperparameter search to refit a final model with the entire training dataset using the best hyperparameters found during the search. This can be achieved by setting the “refit” argument to True, then retrieving the model via the “best_estimator_” attribute on the search result.\n"
   ]
  },
  {
   "cell_type": "code",
   "execution_count": 10,
   "metadata": {},
   "outputs": [
    {
     "name": "stdout",
     "output_type": "stream",
     "text": [
      "-0.02150095222231218\n",
      "Ridge(alpha=0.0)\n",
      "{'alpha': 0.0}\n"
     ]
    }
   ],
   "source": [
    "print(ridge_lr.best_score_)\n",
    "print(ridge_lr.best_estimator_)\n",
    "print(ridge_lr.best_params_)"
   ]
  },
  {
   "cell_type": "code",
   "execution_count": 27,
   "metadata": {},
   "outputs": [
    {
     "name": "stdout",
     "output_type": "stream",
     "text": [
      "MSE ridge: 0.0129743\n"
     ]
    },
    {
     "ename": "ImportError",
     "evalue": "cannot import name 'stdev' from 'sklearn.metrics' (/home/nuno/anaconda3/envs/AAut/lib/python3.8/site-packages/sklearn/metrics/__init__.py)",
     "output_type": "error",
     "traceback": [
      "\u001b[0;31m---------------------------------------------------------------------------\u001b[0m",
      "\u001b[0;31mImportError\u001b[0m                               Traceback (most recent call last)",
      "\u001b[0;32m/tmp/ipykernel_1409577/536510579.py\u001b[0m in \u001b[0;36m<module>\u001b[0;34m\u001b[0m\n\u001b[1;32m      5\u001b[0m \u001b[0;34m\u001b[0m\u001b[0m\n\u001b[1;32m      6\u001b[0m \u001b[0;34m\u001b[0m\u001b[0m\n\u001b[0;32m----> 7\u001b[0;31m \u001b[0;32mfrom\u001b[0m \u001b[0msklearn\u001b[0m\u001b[0;34m.\u001b[0m\u001b[0mmetrics\u001b[0m \u001b[0;32mimport\u001b[0m \u001b[0mstdev\u001b[0m\u001b[0;34m\u001b[0m\u001b[0;34m\u001b[0m\u001b[0m\n\u001b[0m\u001b[1;32m      8\u001b[0m \u001b[0mprint\u001b[0m\u001b[0;34m(\u001b[0m\u001b[0;34m'std y_hat_ridge:'\u001b[0m\u001b[0;34m,\u001b[0m \u001b[0mstdev\u001b[0m\u001b[0;34m(\u001b[0m\u001b[0mridge_MSE_predicted_val\u001b[0m\u001b[0;34m)\u001b[0m\u001b[0;34m)\u001b[0m\u001b[0;34m\u001b[0m\u001b[0;34m\u001b[0m\u001b[0m\n",
      "\u001b[0;31mImportError\u001b[0m: cannot import name 'stdev' from 'sklearn.metrics' (/home/nuno/anaconda3/envs/AAut/lib/python3.8/site-packages/sklearn/metrics/__init__.py)"
     ]
    }
   ],
   "source": [
    "y_hat_ridge = ridge_lr.best_estimator_.predict(x_val)\n",
    "\n",
    "ridge_MSE_predicted_val = round(mean_squared_error(y_val, y_hat_ridge, squared=True), round_digits) \n",
    "print('MSE ridge:', ridge_MSE_predicted_val)\n"
   ]
  },
  {
   "cell_type": "markdown",
   "metadata": {},
   "source": [
    "# Train Lasso regression model\n",
    "\n",
    "https://medium.com/pursuitnotes/day-34-regularization-in-machine-learning-3-c37c336b079c"
   ]
  },
  {
   "cell_type": "markdown",
   "metadata": {},
   "source": [
    "Linear Model trained with L1 prior as regularizer (aka the Lasso).\n",
    "\n",
    "The optimization objective for Lasso is:\n",
    "\n",
    "$\\ (1 / (2 * n samples)) * ||y - Xw||^2_2 + alpha * ||w||_1 $"
   ]
  },
  {
   "cell_type": "code",
   "execution_count": 12,
   "metadata": {},
   "outputs": [
    {
     "name": "stdout",
     "output_type": "stream",
     "text": [
      "Lasso Coef.: [ 0.01875061  0.00400962  0.0834919   0.3337326  -0.68226327  1.69921937\n",
      "  0.05181832  1.82345589  0.00746765 -0.01180466 -1.46268848 -0.7123568\n",
      "  0.02688447 -0.62989471  0.00249004 -0.37802166 -0.12872927 -1.35626207\n",
      " -1.27134327  0.96214351]\n",
      "Lasso Intercept: [-0.01628645]\n",
      "Lasso best params: {'alpha': 0.0017000000000000003}\n",
      "Lasso MSE: 0.0214819\n"
     ]
    }
   ],
   "source": [
    "from sklearn.model_selection import GridSearchCV\n",
    "from sklearn.linear_model import Lasso\n",
    "\n",
    "lasso = Lasso()\n",
    "#parameters = {'alpha': [1e-15, 1e-10, 1e-8, 1e-4, 1e-3,1e-2, 1, 5, 10, 20]}\n",
    "parameters = {'alpha': arange(0.001, 0.003, 0.0001)}\n",
    "\n",
    "lasso_lr = GridSearchCV(lasso, parameters, scoring='neg_mean_squared_error', cv = cv)\n",
    "lasso_lr.fit(x_train, y_train)\n",
    "\n",
    "print('Lasso Coef.:', lasso_lr.best_estimator_.coef_)\n",
    "print('Lasso Intercept:', lasso_lr.best_estimator_.intercept_)\n",
    "\n",
    "print('Lasso best params:', lasso_lr.best_params_ )\n",
    "\n",
    "lasso_MSE_cv_train = round(absolute(lasso_lr.best_score_), round_digits)\n",
    "print('Lasso MSE:', lasso_MSE_cv_train)"
   ]
  },
  {
   "cell_type": "code",
   "execution_count": 21,
   "metadata": {},
   "outputs": [
    {
     "name": "stdout",
     "output_type": "stream",
     "text": [
      "MSE lasso: 0.0119212\n",
      "std y_hat_lasso: 3.620918263290957\n"
     ]
    }
   ],
   "source": [
    "y_hat_lasso = lasso_lr.best_estimator_.predict(x_val)\n",
    "\n",
    "lasso_MSE_predicted_val = round(mean_squared_error(y_val, y_hat_lasso, squared=True), round_digits)\n",
    "print('MSE lasso:', lasso_MSE_predicted_val)\n",
    "\n",
    "print('std y_hat_lasso:', np.std(y_hat_lasso))"
   ]
  },
  {
   "cell_type": "markdown",
   "metadata": {},
   "source": [
    "# Print all MSE results and save to CSV file"
   ]
  },
  {
   "cell_type": "code",
   "execution_count": 14,
   "metadata": {},
   "outputs": [
    {
     "name": "stdout",
     "output_type": "stream",
     "text": [
      "################ OLS Regression ################\n",
      "OLS_lr_MSE_predicted_train: 0.0091687\n",
      "OLS_lr_MSE_cv_train: 0.0220258\n",
      "OLS_lr_MSE_predicted_val: 0.0129743\n",
      "\n",
      "#################### Ridge ####################\n",
      "ridge_MSE_cv_train: 0.021501\n",
      "ridge_MSE_predicted_val: 0.0129743\n",
      "{'alpha': 0.0}\n",
      "\n",
      "#################### Lasso ####################\n",
      "lasso_MSE_cv_train: 0.0214819\n",
      "lasso_MSE_predicted_val: 0.0119212\n",
      "{'alpha': 0.0017000000000000003}\n"
     ]
    }
   ],
   "source": [
    "\n",
    "print('################ OLS Regression ################')\n",
    "print('OLS_lr_MSE_predicted_train:', OLS_lr_MSE_predicted_train)\n",
    "print('OLS_lr_MSE_cv_train:', OLS_lr_MSE_cv_train)\n",
    "print('OLS_lr_MSE_predicted_val:', OLS_lr_MSE_predicted_val)\n",
    "print('')\n",
    "\n",
    "print('#################### Ridge ####################')\n",
    "print('ridge_MSE_cv_train:', ridge_MSE_cv_train)\n",
    "print('ridge_MSE_predicted_val:', ridge_MSE_predicted_val)\n",
    "print(ridge_lr.best_params_)\n",
    "print('')\n",
    "\n",
    "print('#################### Lasso ####################')\n",
    "print('lasso_MSE_cv_train:', lasso_MSE_cv_train)\n",
    "print('lasso_MSE_predicted_val:', lasso_MSE_predicted_val)\n",
    "print(lasso_lr.best_params_)\n"
   ]
  },
  {
   "cell_type": "code",
   "execution_count": 15,
   "metadata": {},
   "outputs": [],
   "source": [
    "import csv\n",
    "import pandas as pd\n",
    " \n",
    "data = [[OLS_lr_MSE_cv_train, OLS_lr_MSE_predicted_val,\n",
    "         ridge_MSE_cv_train, ridge_MSE_predicted_val, ridge_lr.best_params_,\n",
    "         lasso_MSE_cv_train, lasso_MSE_predicted_val, lasso_lr.best_params_]]\n",
    " \n",
    "# Create the pandas DataFrame\n",
    "#df = pd.DataFrame(data, columns = ['Name', 'Age'])\n",
    "df = pd.DataFrame(data)\n",
    "\n",
    "df.to_csv('AAut_Project_part1_results.csv', header=False, mode='a')\n",
    " "
   ]
  },
  {
   "cell_type": "markdown",
   "metadata": {},
   "source": [
    "https://towardsdatascience.com/ways-to-evaluate-regression-models-77a3ff45ba70"
   ]
  },
  {
   "cell_type": "markdown",
   "metadata": {},
   "source": [
    "# Output"
   ]
  },
  {
   "cell_type": "code",
   "execution_count": 17,
   "metadata": {},
   "outputs": [],
   "source": [
    "y_test = lasso_lr.best_estimator_.predict(X_test)\n",
    "\n",
    "np.save('Ytest_Regression_Part1.npy', y_test)"
   ]
  }
 ],
 "metadata": {
  "interpreter": {
   "hash": "0af6baf7c8a281cd65d8922d7f2830a6498700536f6f2891fee8a91c6940a690"
  },
  "kernelspec": {
   "display_name": "Python 3.8.11 64-bit ('AAut': conda)",
   "name": "python3"
  },
  "language_info": {
   "codemirror_mode": {
    "name": "ipython",
    "version": 3
   },
   "file_extension": ".py",
   "mimetype": "text/x-python",
   "name": "python",
   "nbconvert_exporter": "python",
   "pygments_lexer": "ipython3",
   "version": "3.8.11"
  },
  "orig_nbformat": 4
 },
 "nbformat": 4,
 "nbformat_minor": 2
}
