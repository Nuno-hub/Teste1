{
 "cells": [
  {
   "cell_type": "code",
   "execution_count": 245,
   "source": [
    "\n",
    "# https://medium.com/@shuklapratik22/implementation-of-simple-linear-regression-using-normal-equation-matrices-f9021c3590da\n",
    "# https://aegis4048.github.io/mutiple_linear_regression_and_visualization_in_python\n",
    "\n",
    "# Boa explicação teórica.\n",
    "# https://algotech.netlify.app/blog/ridge-lasso/\n",
    "# https://www.datacamp.com/community/tutorials/tutorial-ridge-lasso-elastic-net\n"
   ],
   "outputs": [],
   "metadata": {}
  },
  {
   "cell_type": "markdown",
   "source": [
    "# Load the data"
   ],
   "metadata": {}
  },
  {
   "cell_type": "code",
   "execution_count": 246,
   "source": [
    "import numpy as np\n",
    "\n",
    "X_train_ini = np.load('Xtrain_Regression_Part1.npy')\n",
    "Y_train_ini = np.load('Ytrain_Regression_Part1.npy')\n",
    "\n",
    "X_test = np.load('Xtest_Regression_Part1.npy')\n",
    "\n",
    "#for i in np.arange(len(X_train_i)):\n",
    "#    print(X_train_i[i])\n",
    "\n",
    "#print(X_train_i.shape) # (100, 20)\n",
    "#print(Y_train_i.shape) # (100, 1)\n",
    "#print(X_test_i.shape)  # (1000, 20)"
   ],
   "outputs": [],
   "metadata": {}
  },
  {
   "cell_type": "markdown",
   "source": [
    "# Set train and validation samples"
   ],
   "metadata": {}
  },
  {
   "cell_type": "code",
   "execution_count": 247,
   "source": [
    "from sklearn.model_selection import train_test_split\n",
    "\n",
    "x_train, x_val, y_train, y_val = train_test_split(X_train_ini, Y_train_ini, \n",
    "                                                  random_state=42, shuffle=True, test_size=0.3)\n"
   ],
   "outputs": [],
   "metadata": {}
  },
  {
   "cell_type": "markdown",
   "source": [],
   "metadata": {}
  },
  {
   "cell_type": "markdown",
   "source": [
    "# Train the linear regression model"
   ],
   "metadata": {}
  },
  {
   "cell_type": "code",
   "execution_count": 248,
   "source": [
    "from sklearn.linear_model import LinearRegression\n",
    "\n",
    "# Ordinary least squares Linear Regression\n",
    "lr = LinearRegression()\n",
    "lr.fit(x_train, y_train)\n",
    "\n",
    "# Training score\n",
    "R2 = lr.score(x_train, y_train)\n",
    "print('R²:', round(R2, 5))"
   ],
   "outputs": [
    {
     "output_type": "stream",
     "name": "stdout",
     "text": [
      "R²: 0.99949\n"
     ]
    }
   ],
   "metadata": {}
  },
  {
   "cell_type": "markdown",
   "source": [
    "# Print the coeficients and the intercept"
   ],
   "metadata": {}
  },
  {
   "cell_type": "code",
   "execution_count": 249,
   "source": [
    "print('Coef.:', lr.coef_)\n",
    "print('Intercept:', lr.intercept_)"
   ],
   "outputs": [
    {
     "output_type": "stream",
     "name": "stdout",
     "text": [
      "Coef.: [[ 0.03665259 -0.0074543   0.0733648   0.32871596 -0.66023264  1.71193719\n",
      "   0.06092674  1.80734642  0.01970353 -0.02815931 -1.4483526  -0.72090303\n",
      "   0.02929287 -0.61160516  0.01287571 -0.37050708 -0.13928133 -1.35886414\n",
      "  -1.26912984  0.95467059]]\n",
      "Intercept: [-0.01575139]\n"
     ]
    }
   ],
   "metadata": {}
  },
  {
   "cell_type": "markdown",
   "source": [
    "# Prediction and performance measures"
   ],
   "metadata": {}
  },
  {
   "cell_type": "code",
   "execution_count": 250,
   "source": [
    "from sklearn.metrics import mean_squared_error, r2_score\n",
    "\n",
    "# Prediction on validation data\n",
    "y_pred = lr.predict(x_val)\n",
    "\n",
    "print(y_pred.shape)\n",
    "\n",
    "# Scores on validation data\n",
    "print('RMSE: %.5f' % mean_squared_error(y_val, y_pred, squared=False))\n",
    "print('SSE:', round(y_pred.size * mean_squared_error(y_val, y_pred, squared=True), 5))\n",
    "print('R²:', round(r2_score(y_val, y_pred), 5))\n",
    "print('MSE: %.5f' % mean_squared_error(y_val, y_pred, squared=True))\n"
   ],
   "outputs": [
    {
     "output_type": "stream",
     "name": "stdout",
     "text": [
      "(30, 1)\n",
      "RMSE: 0.13767\n",
      "SSE: 0.56856\n",
      "R²: 0.99855\n",
      "MSE: 0.01895\n"
     ]
    }
   ],
   "metadata": {}
  },
  {
   "cell_type": "markdown",
   "source": [
    "# Cross-validation performance measures\n",
    "https://stats.stackexchange.com/questions/411290/how-to-use-a-cross-validated-model-for-prediction\n",
    "\n",
    "https://towardsdatascience.com/complete-guide-to-pythons-cross-validation-with-examples-a9676b5cac12"
   ],
   "metadata": {}
  },
  {
   "cell_type": "code",
   "execution_count": 251,
   "source": [
    "#from sklearn.model_selection import cross_val_predict\n",
    "from sklearn.model_selection import cross_validate, cross_val_score, RepeatedKFold\n",
    "\n",
    "\n",
    "# define model evaluation method (repeats k-folds n times, with k-folds=n_splits and n=n_repeats)\n",
    "cv = RepeatedKFold(n_splits=10, n_repeats=3, random_state=10)\n",
    "\n",
    "#cv_results = cross_validate(lr, X_train_ini, Y_train_ini, cv=10, scoring='rmse')\n",
    "#print(sorted(cv_results.keys()))\n",
    "#print('Scores:', cv_results['test_score'])\n",
    "\n",
    "# run cross-validation on multiple metrics and also to return train scores, fit times and score times.\n",
    "scores = cross_validate(lr, X_train_ini, Y_train_ini, cv=cv,\n",
    "                        scoring=('r2', 'neg_mean_squared_error'),\n",
    "                        return_train_score=True)\n",
    "\n",
    "print('train MSE', scores['train_neg_mean_squared_error'])\n",
    "print('test MSE', scores['test_neg_mean_squared_error'])\n",
    "print('train R²:', scores['train_r2'])\n",
    "print('test R²:', scores['test_r2'])\n",
    "\n",
    "\n",
    "# Evaluate only one score by cross-validation \n",
    "# (is the same as 'test_neg_mean_squared_error' of cross_validate did before)\n",
    "score = cross_val_score(lr, X_train_ini, Y_train_ini, cv=cv,\n",
    "                        scoring='neg_mean_squared_error')\n",
    "print('score MSE:', score)\n",
    "#print(\"MSE: %0.4f (+/- %0.4f)\" % (-score.mean(), score.std() * 2))\n",
    "print(\"MSE: %0.5f (%0.5f)\" % (-score.mean(), score.std()))"
   ],
   "outputs": [
    {
     "output_type": "stream",
     "name": "stdout",
     "text": [
      "train MSE [-0.00934127 -0.00952399 -0.0087068  -0.0101702  -0.00937168 -0.00967213\n",
      " -0.00910104 -0.00966113 -0.00964104 -0.00965431 -0.00925583 -0.00922878\n",
      " -0.00995022 -0.00908418 -0.00920842 -0.01010391 -0.00969974 -0.00945459\n",
      " -0.00920963 -0.00923122 -0.00913095 -0.00984356 -0.00990566 -0.00949864\n",
      " -0.00909545 -0.00893561 -0.00996329 -0.00957123 -0.00987853 -0.00875648]\n",
      "test MSE [-0.01591206 -0.01345742 -0.0255339  -0.00717773 -0.01439072 -0.01469674\n",
      " -0.01988479 -0.01279024 -0.01359396 -0.01263347 -0.01914141 -0.02035905\n",
      " -0.00975983 -0.0201782  -0.01738964 -0.00899257 -0.01335777 -0.01496261\n",
      " -0.01673795 -0.01897613 -0.01796032 -0.00987247 -0.01035053 -0.01492009\n",
      " -0.02063354 -0.02205157 -0.00988657 -0.01424006 -0.01111747 -0.02471772]\n",
      "train R²: [0.99938587 0.99938163 0.99939567 0.99933553 0.99937562 0.99936869\n",
      " 0.99942789 0.99935663 0.99938276 0.9993241  0.99938677 0.99942595\n",
      " 0.99930274 0.99938559 0.99932432 0.99933875 0.99940658 0.99937568\n",
      " 0.99939945 0.9994024  0.99942588 0.99932827 0.9993533  0.99938727\n",
      " 0.99942927 0.99938694 0.99932198 0.99940084 0.99931362 0.99939029]\n",
      "test R²: [0.99883869 0.99889327 0.99883123 0.99945105 0.99910315 0.99889608\n",
      " 0.99743422 0.99919337 0.99861869 0.99945044 0.99871497 0.99689407\n",
      " 0.99954486 0.99889681 0.99928341 0.99935127 0.99325017 0.99891369\n",
      " 0.99870194 0.99846106 0.99743637 0.99945603 0.99923946 0.99842108\n",
      " 0.99685156 0.99883318 0.99948683 0.99632398 0.99943646 0.99847514]\n",
      "score MSE: [-0.01591206 -0.01345742 -0.0255339  -0.00717773 -0.01439072 -0.01469674\n",
      " -0.01988479 -0.01279024 -0.01359396 -0.01263347 -0.01914141 -0.02035905\n",
      " -0.00975983 -0.0201782  -0.01738964 -0.00899257 -0.01335777 -0.01496261\n",
      " -0.01673795 -0.01897613 -0.01796032 -0.00987247 -0.01035053 -0.01492009\n",
      " -0.02063354 -0.02205157 -0.00988657 -0.01424006 -0.01111747 -0.02471772]\n",
      "MSE: 0.01552 (0.00463)\n"
     ]
    }
   ],
   "metadata": {}
  },
  {
   "cell_type": "markdown",
   "source": [
    "# Ridge regression\n",
    "\n",
    "Linear least squares with l2 regularization.\n",
    "\n",
    "Minimizes the objective function:\n",
    "\n",
    "$ \\ ||y - Xw||^2_2 + alpha * ||w||^2_2 $"
   ],
   "metadata": {}
  },
  {
   "cell_type": "markdown",
   "source": [
    "# Train rigde regression model"
   ],
   "metadata": {}
  },
  {
   "cell_type": "code",
   "execution_count": 254,
   "source": [
    "# https://machinelearningmastery.com/ridge-regression-with-python/\n",
    "\n",
    "from sklearn.linear_model import RidgeCV\n",
    "from sklearn.model_selection import RepeatedKFold\n",
    "from numpy import arange, absolute\n",
    "\n",
    "# define model evaluation method (repeats k-folds n times, with k-folds=n_splits and n=n_repeats)\n",
    "cv = RepeatedKFold(n_splits=10, n_repeats=3, random_state=1)\n",
    "\n",
    "# Grid shearch for alphas\n",
    "ridge_lr = RidgeCV(alphas=arange(0, 1, 0.01), cv=cv\n",
    "                ,scoring='neg_mean_squared_error')\n",
    "\n",
    "ridge_lr.fit(x_train, y_train)\n",
    "\n",
    "# summarize chosen configuration\n",
    "print('alpha: %0.01f' % ridge_lr.alpha_)\n",
    "\n",
    "#best_score _: Mean cross-validated score of the best_estimator\n",
    "print('Ridge Best Score - MSE: %0.5f' % absolute(ridge_lr.best_score_))\n",
    "\n",
    "\n",
    "#Y_hat = ridge_lr.predict(X_test)\n"
   ],
   "outputs": [
    {
     "output_type": "stream",
     "name": "stdout",
     "text": [
      "alpha: 0.1\n",
      "Ridge Best Score - MSE: 0.01883\n"
     ]
    }
   ],
   "metadata": {}
  },
  {
   "cell_type": "markdown",
   "source": [
    "# Train Lasso regression model\n",
    "\n",
    "https://medium.com/pursuitnotes/day-34-regularization-in-machine-learning-3-c37c336b079c"
   ],
   "metadata": {}
  },
  {
   "cell_type": "markdown",
   "source": [
    "Linear Model trained with L1 prior as regularizer (aka the Lasso).\n",
    "\n",
    "The optimization objective for Lasso is:\n",
    "\n",
    "$\\ (1 / (2 * n samples)) * ||y - Xw||^2_2 + alpha * ||w||_1 $"
   ],
   "metadata": {}
  },
  {
   "cell_type": "code",
   "execution_count": 256,
   "source": [
    "from sklearn.model_selection import GridSearchCV\n",
    "from sklearn.linear_model import Lasso\n",
    "\n",
    "lasso = Lasso()\n",
    "#parameters = {'alpha': [1e-15, 1e-10, 1e-8, 1e-4, 1e-3,1e-2, 1, 5, 10, 20]}\n",
    "parameters = {'alpha': arange(0.0009, 0.002, 0.0001)}\n",
    "\n",
    "# define model evaluation method (repeats k-folds n times, with k-folds=n_splits and n=n_repeats)\n",
    "cv = RepeatedKFold(n_splits=10, n_repeats=3, random_state=1)\n",
    "\n",
    "lasso_regressor = GridSearchCV(lasso, parameters, scoring='neg_mean_squared_error', cv = cv)\n",
    "lasso_regressor.fit(x_train, y_train)\n",
    "\n",
    "\n",
    "print('Lasso best params:', lasso_regressor.best_params_ )\n",
    "print('Lasso MSE:', round(absolute(lasso_regressor.best_score_), 5))"
   ],
   "outputs": [
    {
     "output_type": "stream",
     "name": "stdout",
     "text": [
      "Lasso best params: {'alpha': 0.0018000000000000004}\n",
      "Lasso MSE: 0.0187\n"
     ]
    }
   ],
   "metadata": {}
  }
 ],
 "metadata": {
  "orig_nbformat": 4,
  "language_info": {
   "name": "python",
   "version": "3.8.11",
   "mimetype": "text/x-python",
   "codemirror_mode": {
    "name": "ipython",
    "version": 3
   },
   "pygments_lexer": "ipython3",
   "nbconvert_exporter": "python",
   "file_extension": ".py"
  },
  "kernelspec": {
   "name": "python3",
   "display_name": "Python 3.8.11 64-bit ('AAut': conda)"
  },
  "interpreter": {
   "hash": "c06ffbe8fb2a8558454920029e727a67b66eedb069458540b3de1c4d1a86d388"
  }
 },
 "nbformat": 4,
 "nbformat_minor": 2
}