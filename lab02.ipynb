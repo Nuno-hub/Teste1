{
 "cells": [
  {
   "cell_type": "code",
   "execution_count": 27,
   "source": [
    "import numpy as np\n",
    "import pandas as pd\n",
    "\n",
    "X_train_i = np.load('Xtrain_Regression_Part1.npy')\n",
    "Y_train_i = np.load('Ytrain_Regression_Part1.npy')\n",
    "\n",
    "X_test_i = np.load('Xtest_Regression_Part1.npy')\n",
    "\n",
    "\n",
    "#print(X_train_i.shape) # (100, 20)\n",
    "#print(Y_train_i.shape) # (100, 1)\n",
    "#print(X_test_i.shape)  # (1000, 20)"
   ],
   "outputs": [],
   "metadata": {}
  },
  {
   "cell_type": "code",
   "execution_count": 28,
   "source": [
    "def polynomial_fit(x,y,P):\n",
    "    A = np.zeros((len(x),P+1))  # Initializes the A matrix, corresponding to the matrix form of the normal equations\n",
    "    \n",
    "    for i in range(P+1):\n",
    "        for k in range(len(x)):  # Brute-force nested for loops to fill the matrix\n",
    "            A[k,i] = x[k]**i\n",
    "    \n",
    "    At = np.transpose(A)\n",
    "    B = np.dot(At,y)\n",
    "    Coef = np.dot(np.linalg.inv(np.dot(At,A)),B)  # The coefficients are computed by solving the system\n",
    "    \n",
    "    return np.round(Coef,3)  # Rounds the coefficients"
   ],
   "outputs": [],
   "metadata": {}
  },
  {
   "cell_type": "code",
   "execution_count": 32,
   "source": [
    "X_train = X_train_i[:,0]  # Convert the data to a proper format\n",
    "print(X_train.shape)\n",
    "print(X_train_i.shape)\n",
    "\n",
    "Y_train = Y_train_i[:,0]\n",
    "print(Y_train.shape);\n",
    "print(Y_train_i.shape)\n"
   ],
   "outputs": [
    {
     "output_type": "stream",
     "name": "stdout",
     "text": [
      "(100,)\n",
      "(100, 20)\n",
      "(100,)\n",
      "(100, 1)\n"
     ]
    }
   ],
   "metadata": {}
  },
  {
   "cell_type": "code",
   "execution_count": 35,
   "source": [
    "c = polynomial_fit(X_train, Y_train, 1) # Apply the polynomial fit and print the coefficients. Left: B0\n",
    "print(c)"
   ],
   "outputs": [
    {
     "output_type": "stream",
     "name": "stdout",
     "text": [
      "[-0.039  0.167]\n"
     ]
    }
   ],
   "metadata": {}
  },
  {
   "cell_type": "code",
   "execution_count": 37,
   "source": [
    "def SSE_linear(x,y,coef):\n",
    "    prediction = np.zeros(len(y));    # This function computes the SSE, receiving the data arrays and the previously obtained\n",
    "                                       # coefficients as arguments    \n",
    "    for i in range(len(y)):\n",
    "        prediction[i] = coef[1]*x[i] + coef[0];\n",
    "    \n",
    "    SSE = np.sum((y-prediction)**2);\n",
    "    \n",
    "    print(\"Coefficients: B0 = \",coef[0],\" B1 = \",coef[1]);\n",
    "    print(\"SSE = \", np.round(SSE,3));\n",
    "    \n",
    "    return prediction;"
   ],
   "outputs": [],
   "metadata": {}
  },
  {
   "cell_type": "code",
   "execution_count": 39,
   "source": [
    "res = SSE_linear(X_train, Y_train, c)"
   ],
   "outputs": [
    {
     "output_type": "stream",
     "name": "stdout",
     "text": [
      "Coefficients: B0 =  -0.039  B1 =  0.167\n",
      "SSE =  1513.038\n"
     ]
    }
   ],
   "metadata": {}
  },
  {
   "cell_type": "code",
   "execution_count": 42,
   "source": [
    "import matplotlib.pyplot as plt\n",
    "\n",
    "plt.scatter(X_train, Y_train, label='Data'); # Plot both the data and the fit on the same graph\n",
    "plt.plot(X_train, res, 'r', label='Fit');\n",
    "plt.legend();"
   ],
   "outputs": [
    {
     "output_type": "display_data",
     "data": {
      "image/png": "[encoded data removed]",
      "text/plain": [
       "<Figure size 432x288 with 1 Axes>"
      ]
     },
     "metadata": {
      "needs_background": "light"
     }
    }
   ],
   "metadata": {}
  }
 ],
 "metadata": {
  "orig_nbformat": 4,
  "language_info": {
   "name": "python",
   "version": "3.8.11",
   "mimetype": "text/x-python",
   "codemirror_mode": {
    "name": "ipython",
    "version": 3
   },
   "pygments_lexer": "ipython3",
   "nbconvert_exporter": "python",
   "file_extension": ".py"
  },
  "kernelspec": {
   "name": "python3",
   "display_name": "Python 3.8.11 64-bit ('AAut': conda)"
  },
  "interpreter": {
   "hash": "c06ffbe8fb2a8558454920029e727a67b66eedb069458540b3de1c4d1a86d388"
  }
 },
 "nbformat": 4,
 "nbformat_minor": 2
}