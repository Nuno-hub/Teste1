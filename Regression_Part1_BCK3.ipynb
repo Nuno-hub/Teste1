{
 "cells": [
  {
   "cell_type": "markdown",
   "metadata": {},
   "source": [
    "# Regression - Part 1"
   ]
  },
  {
   "cell_type": "markdown",
   "metadata": {},
   "source": [
    "# Load the data"
   ]
  },
  {
   "cell_type": "code",
   "execution_count": 870,
   "metadata": {},
   "outputs": [],
   "source": [
    "import numpy as np\n",
    "\n",
    "X_train_ini = np.load('Xtrain_Regression_Part1.npy')\n",
    "Y_train_ini = np.load('Ytrain_Regression_Part1.npy')\n",
    "\n",
    "X_test = np.load('Xtest_Regression_Part1.npy')"
   ]
  },
  {
   "cell_type": "markdown",
   "metadata": {},
   "source": [
    "# Define cross-validation method"
   ]
  },
  {
   "cell_type": "code",
   "execution_count": 871,
   "metadata": {},
   "outputs": [],
   "source": [
    "from sklearn.model_selection import RepeatedKFold\n",
    "\n",
    "round_digits = 7\n",
    "#random_state = 1\n",
    "random_state = None\n",
    "\n",
    "# define model evaluation method (repeats k-folds n times, with k-folds=n_splits and n=n_repeats)\n",
    "cv = RepeatedKFold(n_splits=10, n_repeats=3, random_state=random_state)"
   ]
  },
  {
   "cell_type": "markdown",
   "metadata": {},
   "source": [
    "# Set train and validation samples"
   ]
  },
  {
   "cell_type": "code",
   "execution_count": 872,
   "metadata": {},
   "outputs": [],
   "source": [
    "from sklearn.model_selection import train_test_split\n",
    "\n",
    "x_train, x_val, y_train, y_val = train_test_split(X_train_ini, Y_train_ini, \n",
    "                                                  random_state=random_state, \n",
    "                                                  shuffle=True, test_size=1/3)\n"
   ]
  },
  {
   "cell_type": "markdown",
   "metadata": {},
   "source": [
    "# Train the linear regression model"
   ]
  },
  {
   "cell_type": "code",
   "execution_count": 873,
   "metadata": {},
   "outputs": [
    {
     "name": "stdout",
     "output_type": "stream",
     "text": [
      "R²: 0.9994526\n"
     ]
    }
   ],
   "source": [
    "from sklearn.linear_model import LinearRegression\n",
    "\n",
    "# Ordinary least squares Linear Regression\n",
    "lr = LinearRegression()\n",
    "lr.fit(x_train, y_train)\n",
    "\n",
    "# Training score\n",
    "R2 = lr.score(x_train, y_train)\n",
    "print('R²:', round(R2, round_digits))"
   ]
  },
  {
   "cell_type": "markdown",
   "metadata": {},
   "source": [
    "# MSE for training data"
   ]
  },
  {
   "cell_type": "code",
   "execution_count": 874,
   "metadata": {},
   "outputs": [
    {
     "name": "stdout",
     "output_type": "stream",
     "text": [
      "MSE: 0.0076001\n",
      "R²: 0.9994526\n"
     ]
    }
   ],
   "source": [
    "from numpy import round\n",
    "from sklearn.metrics import mean_squared_error, r2_score\n",
    "\n",
    "y_hat_lr_train = lr.predict(x_train)\n",
    "\n",
    "OLS_lr_MSE_predicted_train = round(mean_squared_error(y_train, y_hat_lr_train, squared=True), round_digits)\n",
    "print('MSE:', OLS_lr_MSE_predicted_train)\n",
    "print('R²:', round(r2_score(y_train, y_hat_lr_train), round_digits))"
   ]
  },
  {
   "cell_type": "markdown",
   "metadata": {},
   "source": [
    "# Print the coeficients and the intercept"
   ]
  },
  {
   "cell_type": "code",
   "execution_count": 875,
   "metadata": {},
   "outputs": [
    {
     "name": "stdout",
     "output_type": "stream",
     "text": [
      "Coef.: [[ 3.23083688e-02  1.23513283e-03  1.01038112e-01  3.24436004e-01\n",
      "  -6.85030791e-01  1.68942423e+00  3.12752780e-02  1.82667421e+00\n",
      "   3.87705239e-03 -1.82000765e-02 -1.45479220e+00 -7.06796151e-01\n",
      "   4.40583563e-02 -6.10750534e-01  2.53779992e-02 -3.82729060e-01\n",
      "  -1.23498181e-01 -1.36088088e+00 -1.25774574e+00  9.61829946e-01]]\n",
      "Intercept: [-0.02600608]\n"
     ]
    }
   ],
   "source": [
    "print('Coef.:', lr.coef_)\n",
    "print('Intercept:', lr.intercept_)"
   ]
  },
  {
   "cell_type": "markdown",
   "metadata": {},
   "source": [
    "# Prediction and performance measures"
   ]
  },
  {
   "cell_type": "code",
   "execution_count": 876,
   "metadata": {},
   "outputs": [
    {
     "name": "stdout",
     "output_type": "stream",
     "text": [
      "MSE: 0.020024\n",
      "R²: 0.9988606\n"
     ]
    }
   ],
   "source": [
    "from sklearn.metrics import mean_squared_error, r2_score\n",
    "\n",
    "# Prediction on validation data\n",
    "y_pred = lr.predict(x_val)\n",
    "\n",
    "# Scores on validation data\n",
    "#print('RMSE: %.5f' % mean_squared_error(y_val, y_pred, squared=False))\n",
    "#print('SSE:', round(y_pred.size * mean_squared_error(y_val, y_pred, squared=True), 5))\n",
    "\n",
    "OLS_lr_MSE_predicted_val = round(mean_squared_error(y_val, y_pred, squared=True), round_digits)\n",
    "\n",
    "print('MSE:', OLS_lr_MSE_predicted_val)\n",
    "print('R²:', round(r2_score(y_val, y_pred), round_digits))\n"
   ]
  },
  {
   "cell_type": "markdown",
   "metadata": {},
   "source": [
    "# Cross-validation performance measures"
   ]
  },
  {
   "cell_type": "code",
   "execution_count": 877,
   "metadata": {},
   "outputs": [
    {
     "name": "stdout",
     "output_type": "stream",
     "text": [
      "score MSE: [-0.0287981  -0.02234128 -0.01188768 -0.00642502 -0.00715508 -0.01663265\n",
      " -0.01298279 -0.01673138 -0.03312045 -0.02608749 -0.02988212 -0.01291274\n",
      " -0.0037524  -0.01213862 -0.02913642 -0.01878453 -0.01815248 -0.01192407\n",
      " -0.01621763 -0.01085675 -0.04116021 -0.00594729 -0.04342735 -0.00911864\n",
      " -0.01043875 -0.04003053 -0.01339716 -0.01954434 -0.01141052 -0.00378261]\n",
      "MSE: 0.0181392   std: 0.0109323\n"
     ]
    }
   ],
   "source": [
    "from sklearn.model_selection import cross_validate, cross_val_score\n",
    "from numpy import absolute\n",
    "\n",
    "# Evaluate the model with cross-validation \n",
    "score = cross_val_score(lr, x_train, y_train, cv=cv,\n",
    "                        scoring='neg_mean_squared_error')\n",
    "\n",
    "OLS_lr_MSE_cv_train = round(absolute(score.mean()), round_digits)\n",
    "\n",
    "print('score MSE:', score)\n",
    "print(\"MSE:\", OLS_lr_MSE_cv_train, '  std:', round(score.std(), round_digits))"
   ]
  },
  {
   "cell_type": "markdown",
   "metadata": {},
   "source": [
    "# Ridge regression\n",
    "\n",
    "Linear least squares with l2 regularization.\n",
    "\n",
    "Minimizes the objective function:\n",
    "\n",
    "$ \\ ||y - Xw||^2_2 + alpha * ||w||^2_2 $"
   ]
  },
  {
   "cell_type": "markdown",
   "metadata": {},
   "source": [
    "# Train rigde regression model"
   ]
  },
  {
   "cell_type": "code",
   "execution_count": 878,
   "metadata": {},
   "outputs": [
    {
     "name": "stdout",
     "output_type": "stream",
     "text": [
      "Fitting 30 folds for each of 100 candidates, totalling 3000 fits\n",
      "Ridge Coef.: [[ 3.21606184e-02  1.22530170e-03  1.00674665e-01  3.24098660e-01\n",
      "  -6.84316255e-01  1.68794494e+00  3.13195515e-02  1.82521149e+00\n",
      "   3.92889707e-03 -1.82000811e-02 -1.45380213e+00 -7.06267507e-01\n",
      "   4.37820823e-02 -6.10168067e-01  2.59433561e-02 -3.82397486e-01\n",
      "  -1.22875733e-01 -1.35953712e+00 -1.25729634e+00  9.61659776e-01]]\n",
      "Ridge Intercept: [-0.02591421]\n",
      "Ridge best params: {'alpha': 0.04}\n",
      "Ridge MSE: 0.0173796\n"
     ]
    }
   ],
   "source": [
    "from sklearn.linear_model import Ridge\n",
    "from sklearn.model_selection import GridSearchCV\n",
    "from numpy import arange\n",
    "\n",
    "ridge = Ridge()\n",
    "\n",
    "parameters = {'alpha': arange(0, 1, 0.01)}\n",
    "\n",
    "ridge_lr = GridSearchCV(ridge, parameters, scoring='neg_mean_squared_error', cv=cv, refit=True, verbose=1)\n",
    "ridge_lr.fit(x_train, y_train)\n",
    "\n",
    "print('Ridge Coef.:', ridge_lr.best_estimator_.coef_)\n",
    "print('Ridge Intercept:', ridge_lr.best_estimator_.intercept_)\n",
    "\n",
    "ridge_MSE_cv_train = round(absolute(ridge_lr.best_score_), round_digits)\n",
    "\n",
    "print('Ridge best params:', ridge_lr.best_params_ )\n",
    "print('Ridge MSE:', ridge_MSE_cv_train)"
   ]
  },
  {
   "cell_type": "markdown",
   "metadata": {},
   "source": [
    "best_estimator_:\n",
    "\n",
    "Estimator that was chosen by the search, i.e. estimator which gave highest score (or smallest loss if specified) on the left out data. Not available if refit=False.\n",
    "\n",
    "best_score_:\n",
    "\n",
    "Mean cross-validated score of the best_estimator\n",
    "\n",
    "best_params_:\n",
    "\n",
    "Parameter setting that gave the best results on the hold out data.\n",
    "\n",
    "Importantly, we can configure the hyperparameter search to refit a final model with the entire training dataset using the best hyperparameters found during the search. This can be achieved by setting the “refit” argument to True, then retrieving the model via the “best_estimator_” attribute on the search result.\n"
   ]
  },
  {
   "cell_type": "code",
   "execution_count": 879,
   "metadata": {},
   "outputs": [
    {
     "name": "stdout",
     "output_type": "stream",
     "text": [
      "-0.017379592340896373\n",
      "Ridge(alpha=0.04)\n",
      "{'alpha': 0.04}\n"
     ]
    }
   ],
   "source": [
    "print(ridge_lr.best_score_)\n",
    "print(ridge_lr.best_estimator_)\n",
    "print(ridge_lr.best_params_)"
   ]
  },
  {
   "cell_type": "code",
   "execution_count": 880,
   "metadata": {},
   "outputs": [
    {
     "name": "stdout",
     "output_type": "stream",
     "text": [
      "MSE ridge: 0.0201114\n"
     ]
    }
   ],
   "source": [
    "y_hat_ridge = ridge_lr.best_estimator_.predict(x_val)\n",
    "\n",
    "ridge_MSE_predicted_val = round(mean_squared_error(y_val, y_hat_ridge, squared=True), round_digits) \n",
    "print('MSE ridge:', ridge_MSE_predicted_val)"
   ]
  },
  {
   "cell_type": "markdown",
   "metadata": {},
   "source": [
    "# Train Lasso regression model\n",
    "\n",
    "https://medium.com/pursuitnotes/day-34-regularization-in-machine-learning-3-c37c336b079c"
   ]
  },
  {
   "cell_type": "markdown",
   "metadata": {},
   "source": [
    "Linear Model trained with L1 prior as regularizer (aka the Lasso).\n",
    "\n",
    "The optimization objective for Lasso is:\n",
    "\n",
    "$\\ (1 / (2 * n samples)) * ||y - Xw||^2_2 + alpha * ||w||_1 $"
   ]
  },
  {
   "cell_type": "code",
   "execution_count": 881,
   "metadata": {},
   "outputs": [
    {
     "name": "stdout",
     "output_type": "stream",
     "text": [
      "Lasso Coef.: [ 2.87275012e-02  0.00000000e+00  9.86073269e-02  3.21229690e-01\n",
      " -6.82937403e-01  1.68652240e+00  2.95228783e-02  1.82319248e+00\n",
      "  1.14608703e-03 -1.70519453e-02 -1.45255477e+00 -7.05544194e-01\n",
      "  4.10745247e-02 -6.08362196e-01  2.56820468e-02 -3.81030225e-01\n",
      " -1.20184086e-01 -1.35711944e+00 -1.25644124e+00  9.60901642e-01]\n",
      "Lasso Intercept: [-0.0260653]\n",
      "Lasso best params: {'alpha': 0.0019000000000000004}\n",
      "Lasso MSE: 0.0166523\n"
     ]
    }
   ],
   "source": [
    "from sklearn.model_selection import GridSearchCV\n",
    "from sklearn.linear_model import Lasso\n",
    "\n",
    "lasso = Lasso()\n",
    "#parameters = {'alpha': [1e-15, 1e-10, 1e-8, 1e-4, 1e-3,1e-2, 1, 5, 10, 20]}\n",
    "parameters = {'alpha': arange(0.0009, 0.002, 0.0001)}\n",
    "\n",
    "lasso_lr = GridSearchCV(lasso, parameters, scoring='neg_mean_squared_error', cv = cv)\n",
    "lasso_lr.fit(x_train, y_train)\n",
    "\n",
    "print('Lasso Coef.:', lasso_lr.best_estimator_.coef_)\n",
    "print('Lasso Intercept:', lasso_lr.best_estimator_.intercept_)\n",
    "\n",
    "print('Lasso best params:', lasso_lr.best_params_ )\n",
    "\n",
    "lasso_MSE_cv_train = round(absolute(lasso_lr.best_score_), round_digits)\n",
    "print('Lasso MSE:', lasso_MSE_cv_train)"
   ]
  },
  {
   "cell_type": "code",
   "execution_count": 882,
   "metadata": {},
   "outputs": [
    {
     "name": "stdout",
     "output_type": "stream",
     "text": [
      "MSE lasso: 0.0198326\n"
     ]
    }
   ],
   "source": [
    "y_hat_lasso = lasso_lr.best_estimator_.predict(x_val)\n",
    "\n",
    "lasso_MSE_predicted_val = round(mean_squared_error(y_val, y_hat_lasso, squared=True), round_digits)\n",
    "print('MSE lasso:', lasso_MSE_predicted_val)"
   ]
  },
  {
   "cell_type": "markdown",
   "metadata": {},
   "source": [
    "# Print all MSE results and save to CSV file"
   ]
  },
  {
   "cell_type": "code",
   "execution_count": 883,
   "metadata": {},
   "outputs": [
    {
     "name": "stdout",
     "output_type": "stream",
     "text": [
      "################ OLS Regression ################\n",
      "OLS_lr_MSE_predicted_train: 0.0076001\n",
      "OLS_lr_MSE_cv_train: 0.0181392\n",
      "OLS_lr_MSE_predicted_val: 0.020024\n",
      "\n",
      "#################### Ridge ####################\n",
      "ridge_cv_train: 0.0173796\n",
      "ridge_predicted_val: 0.0201114\n",
      "\n",
      "#################### Lasso ####################\n",
      "lasso_MSE_cv_train: 0.0166523\n",
      "lasso_MSE_predicted_val: 0.0198326\n"
     ]
    }
   ],
   "source": [
    "print('################ OLS Regression ################')\n",
    "print('OLS_lr_MSE_predicted_train:', OLS_lr_MSE_predicted_train)\n",
    "print('OLS_lr_MSE_cv_train:', OLS_lr_MSE_cv_train)\n",
    "print('OLS_lr_MSE_predicted_val:', OLS_lr_MSE_predicted_val)\n",
    "print('')\n",
    "\n",
    "print('#################### Ridge ####################')\n",
    "print('ridge_MSE_cv_train:', ridge_MSE_cv_train)\n",
    "print('ridge_MSE_predicted_val:', ridge_MSE_predicted_val)\n",
    "print('')\n",
    "\n",
    "print('#################### Lasso ####################')\n",
    "print('lasso_MSE_cv_train:', lasso_MSE_cv_train)\n",
    "print('lasso_MSE_predicted_val:', lasso_MSE_predicted_val)\n"
   ]
  },
  {
   "cell_type": "code",
   "execution_count": 884,
   "metadata": {},
   "outputs": [],
   "source": [
    "import csv\n",
    "import pandas as pd\n",
    " \n",
    "data = [[OLS_lr_MSE_cv_train, OLS_lr_MSE_predicted_val,\n",
    "         ridge_MSE_cv_train, ridge_MSE_predicted_val,\n",
    "         lasso_MSE_cv_train, lasso_MSE_predicted_val]]\n",
    " \n",
    "# Create the pandas DataFrame\n",
    "#df = pd.DataFrame(data, columns = ['Name', 'Age'])\n",
    "df = pd.DataFrame(data)\n",
    "\n",
    "df.to_csv('AAut_Project_part1_results.csv', header=False, mode='a')\n",
    " "
   ]
  }
 ],
 "metadata": {
  "interpreter": {
   "hash": "c06ffbe8fb2a8558454920029e727a67b66eedb069458540b3de1c4d1a86d388"
  },
  "kernelspec": {
   "display_name": "Python 3.8.11 64-bit ('AAut': conda)",
   "name": "python3"
  },
  "language_info": {
   "codemirror_mode": {
    "name": "ipython",
    "version": 3
   },
   "file_extension": ".py",
   "mimetype": "text/x-python",
   "name": "python",
   "nbconvert_exporter": "python",
   "pygments_lexer": "ipython3",
   "version": "3.8.11"
  },
  "orig_nbformat": 4
 },
 "nbformat": 4,
 "nbformat_minor": 2
}
