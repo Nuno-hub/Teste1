{
 "cells": [
  {
   "cell_type": "markdown",
   "metadata": {},
   "source": [
    "# Regression - Part 1 - Problem 2"
   ]
  },
  {
   "cell_type": "markdown",
   "metadata": {},
   "source": [
    "# Load the data"
   ]
  },
  {
   "cell_type": "code",
   "execution_count": 16,
   "metadata": {},
   "outputs": [],
   "source": [
    "import numpy as np\n",
    "import pandas as pd\n",
    "\n",
    "X_train = np.load('Xtrain_Regression_Part2.npy')\n",
    "Y_train = np.load('Ytrain_Regression_Part2.npy')\n",
    "\n",
    "X_test = np.load('Xtest_Regression_Part2.npy')\n",
    "\n",
    "np.random.seed(10)\n",
    "\n",
    "#df = pd.DataFrame(X_train)\n",
    "#df.describe()"
   ]
  },
  {
   "cell_type": "markdown",
   "metadata": {},
   "source": [
    "# Plot the boxplots to visualize the univariate outliers"
   ]
  },
  {
   "cell_type": "code",
   "execution_count": 17,
   "metadata": {},
   "outputs": [
    {
     "data": {
      "image/png": "[encoded data removed]",
      "text/plain": [
       "<Figure size 720x504 with 1 Axes>"
      ]
     },
     "metadata": {
      "needs_background": "light"
     },
     "output_type": "display_data"
    }
   ],
   "source": [
    "import matplotlib.pyplot as plt\n",
    "import numpy as np\n",
    " \n",
    " \n",
    "# Creating dataset\n",
    "data = X_train\n",
    " \n",
    "fig = plt.figure(figsize =(10, 7))\n",
    " \n",
    "# Creating plot\n",
    "plt.boxplot(data)\n",
    " \n",
    "# show plot\n",
    "plt.show()"
   ]
  },
  {
   "cell_type": "markdown",
   "metadata": {},
   "source": [
    "# Standardize features by removing the mean and scaling to unit variance."
   ]
  },
  {
   "cell_type": "code",
   "execution_count": 18,
   "metadata": {},
   "outputs": [],
   "source": [
    "from sklearn.preprocessing import StandardScaler\n",
    "\n",
    "scaler = StandardScaler()\n",
    "scaler.fit(X_train)\n",
    "\n",
    "x_train_scaled = scaler.transform(X_train)\n",
    "\n",
    "#df1 = pd.DataFrame(x_train_scaled)\n",
    "#df1.describe()"
   ]
  },
  {
   "cell_type": "markdown",
   "metadata": {},
   "source": [
    "# Define cross-validation method"
   ]
  },
  {
   "cell_type": "code",
   "execution_count": 19,
   "metadata": {},
   "outputs": [],
   "source": [
    "from sklearn.linear_model import LinearRegression ,Ridge ,Lasso, HuberRegressor, RANSACRegressor, TheilSenRegressor\n",
    "from sklearn.model_selection import RepeatedKFold, cross_val_score\n",
    "\n",
    "Linear = LinearRegression()\n",
    "Ridge=Ridge()\n",
    "Lasso=Lasso()\n",
    "Huber = HuberRegressor()\n",
    "Ransac=RANSACRegressor()\n",
    "Theil=TheilSenRegressor()\n",
    "\n",
    "estimators = [Linear, Ridge, Lasso, Huber, Ransac, Theil]\n",
    "\n",
    "# evaluate a model\n",
    "def evaluate_model(X, y, model):\n",
    "\t# define model evaluation method\n",
    "\tcv = RepeatedKFold(n_splits=10, n_repeats=3, random_state=1)\n",
    "\t# evaluate model\n",
    "\tscores = cross_val_score(model, X, y, scoring='neg_mean_squared_error', cv=cv, n_jobs=-1)\n",
    "\t# force scores to be positive\n",
    "\treturn absolute(scores)\n",
    "\n"
   ]
  },
  {
   "cell_type": "code",
   "execution_count": 20,
   "metadata": {},
   "outputs": [
    {
     "name": "stdout",
     "output_type": "stream",
     "text": [
      "Model:  LinearRegression()\n",
      "Mean MSE (std): 2.0650802 (3.8182864)\n",
      "Model:  Ridge()\n",
      "Mean MSE (std): 2.0503110 (3.7907340)\n",
      "Model:  Lasso()\n",
      "Mean MSE (std): 7.9623503 (3.8785808)\n",
      "Model:  HuberRegressor()\n",
      "Mean MSE (std): 1.6705122 (4.1007245)\n",
      "Model:  RANSACRegressor()\n",
      "Mean MSE (std): 1.6604501 (4.0759239)\n",
      "Model:  TheilSenRegressor(max_subpopulation=10000)\n",
      "Mean MSE (std): 1.6550310 (4.0583651)\n"
     ]
    }
   ],
   "source": [
    "from numpy import mean, std, absolute\n",
    "\n",
    "for model in estimators:\n",
    "    print('Model: ', model)\n",
    "    results = evaluate_model(x_train_scaled, Y_train.ravel(), model)\n",
    "    print('Mean MSE (std): %.7f (%.7f)' % (mean(results), std(results)))"
   ]
  },
  {
   "cell_type": "markdown",
   "metadata": {},
   "source": [
    "# Best model: TheilSenRegressor"
   ]
  },
  {
   "cell_type": "markdown",
   "metadata": {},
   "source": [
    "# Test outliers removal"
   ]
  },
  {
   "cell_type": "code",
   "execution_count": 27,
   "metadata": {},
   "outputs": [
    {
     "name": "stdout",
     "output_type": "stream",
     "text": [
      "(67, 20) (67, 1)\n",
      "(60, 20) (60, 1)\n",
      "MSE: 1.986\n"
     ]
    }
   ],
   "source": [
    "# evaluate model performance with outliers removed using isolation forest\n",
    "from sklearn.model_selection import train_test_split\n",
    "from sklearn.linear_model import LinearRegression\n",
    "from sklearn.ensemble import IsolationForest\n",
    "from sklearn.metrics import mean_absolute_error, mean_squared_error\n",
    "\n",
    "X = x_train_scaled\n",
    "y = Y_train\n",
    "\n",
    "# split into train and test sets\n",
    "X_train1, X_test1, y_train1, y_test1 = train_test_split(X, y, test_size=0.33, random_state=1)\n",
    "# summarize the shape of the training dataset\n",
    "print(X_train1.shape, y_train1.shape)\n",
    "# identify outliers in the training dataset\n",
    "iso = IsolationForest(contamination=0.1)\n",
    "yhat = iso.fit_predict(X_train1)\n",
    "# select all rows that are not outliers\n",
    "mask = yhat != -1\n",
    "X_train1, y_train1 = X_train1[mask, :], y_train1[mask]\n",
    "# summarize the shape of the updated training dataset\n",
    "print(X_train1.shape, y_train1.shape)\n",
    "# fit the model\n",
    "model = LinearRegression()\n",
    "model.fit(X_train1, y_train1)\n",
    "# evaluate the model\n",
    "yhat = model.predict(X_test1)\n",
    "# evaluate predictions\n",
    "MSE = mean_squared_error(y_test1, yhat)\n",
    "mae = mean_absolute_error(y_test1, yhat)\n",
    "print('MSE: %.3f' % MSE)"
   ]
  },
  {
   "cell_type": "markdown",
   "metadata": {},
   "source": [
    "# Remove outliers and test the models again"
   ]
  },
  {
   "cell_type": "code",
   "execution_count": 22,
   "metadata": {},
   "outputs": [
    {
     "name": "stdout",
     "output_type": "stream",
     "text": [
      "(90, 20) (90, 1)\n"
     ]
    }
   ],
   "source": [
    "iso = IsolationForest(contamination=0.1)\n",
    "yhat = iso.fit_predict(x_train_scaled)\n",
    "# select all rows that are not outliers\n",
    "mask = yhat != -1\n",
    "X_train2, y_train2 = x_train_scaled[mask, :], Y_train[mask]\n",
    "# summarize the shape of the updated training dataset\n",
    "print(X_train2.shape, y_train2.shape)"
   ]
  },
  {
   "cell_type": "code",
   "execution_count": 23,
   "metadata": {},
   "outputs": [],
   "source": [
    "from sklearn.linear_model import LinearRegression ,Ridge ,Lasso, HuberRegressor, RANSACRegressor, TheilSenRegressor\n",
    "from xgboost import XGBRegressor\n",
    "from sklearn.model_selection import RepeatedKFold, cross_val_score\n",
    "\n",
    "Linear = LinearRegression()\n",
    "Ridge=Ridge()\n",
    "Lasso=Lasso()\n",
    "Huber = HuberRegressor()\n",
    "Ransac=RANSACRegressor()\n",
    "Theil=TheilSenRegressor()\n",
    "#Xgboost=XGBRegressor()\n",
    "\n",
    "estimators = [Linear, Ridge, Lasso, Huber, Ransac, Theil]\n",
    "\n",
    "# evaluate a model\n",
    "def evaluate_model(X, y, model):\n",
    "\t# define model evaluation method\n",
    "\tcv = RepeatedKFold(n_splits=10, n_repeats=3, random_state=1)\n",
    "\t# evaluate model\n",
    "\tscores = cross_val_score(model, X, y, scoring='neg_mean_squared_error', cv=cv, n_jobs=-1)\n",
    "\t# force scores to be positive\n",
    "\treturn absolute(scores)\n"
   ]
  },
  {
   "cell_type": "code",
   "execution_count": 24,
   "metadata": {},
   "outputs": [
    {
     "name": "stdout",
     "output_type": "stream",
     "text": [
      "Model:  LinearRegression()\n",
      "Mean MSE (std): 2.3179700 (3.5575906)\n",
      "Model:  Ridge()\n",
      "Mean MSE (std): 2.2862087 (3.5155624)\n",
      "Model:  Lasso()\n",
      "Mean MSE (std): 8.0698992 (3.9651519)\n",
      "Model:  HuberRegressor()\n",
      "Mean MSE (std): 1.8456534 (3.9675045)\n",
      "Model:  RANSACRegressor()\n",
      "Mean MSE (std): 1.8322260 (3.9396657)\n",
      "Model:  TheilSenRegressor(max_subpopulation=10000)\n",
      "Mean MSE (std): 1.8257507 (3.9181467)\n"
     ]
    }
   ],
   "source": [
    "from numpy import mean, std\n",
    "\n",
    "for model in estimators:\n",
    "    print('Model: ', model)\n",
    "    results = evaluate_model(X_train2, y_train2.ravel(), model)\n",
    "    print('Mean MSE (std): %.7f (%.7f)' % (mean(results), std(results)))"
   ]
  },
  {
   "cell_type": "markdown",
   "metadata": {},
   "source": [
    "# No improvement with outlier removal"
   ]
  },
  {
   "cell_type": "markdown",
   "metadata": {},
   "source": [
    "# Fit the best model and generate Output data"
   ]
  },
  {
   "cell_type": "code",
   "execution_count": 25,
   "metadata": {},
   "outputs": [
    {
     "name": "stdout",
     "output_type": "stream",
     "text": [
      "TheilSen Coef.: [ 0.90725582 -0.2291166  -0.56232028  0.02206816 -1.33660792 -0.7066966\n",
      "  0.01233491  0.00559739  1.10147696 -0.01744198 -0.01925198  1.26562156\n",
      " -0.0046194   0.09897829  0.26881346  0.4123526   0.58884372 -0.16520533\n",
      "  0.85098285  0.44682573]\n",
      "TheilSen Intercept: 0.007560664915546527\n"
     ]
    }
   ],
   "source": [
    "from sklearn.linear_model import TheilSenRegressor\n",
    "\n",
    "from sklearn.model_selection import RepeatedKFold, cross_val_score\n",
    "from numpy import absolute\n",
    "\n",
    "Theil_final=TheilSenRegressor()\n",
    "Theil_final.fit(x_train_scaled, Y_train.ravel())\n",
    "\n",
    "print('TheilSen Coef.:', Theil_final.coef_)\n",
    "print('TheilSen Intercept:', Theil_final.intercept_)\n"
   ]
  },
  {
   "cell_type": "markdown",
   "metadata": {},
   "source": [
    "# Output"
   ]
  },
  {
   "cell_type": "code",
   "execution_count": 26,
   "metadata": {},
   "outputs": [],
   "source": [
    "from numpy import save\n",
    "\n",
    "y_test = Theil_final.predict(X_test)\n",
    "np.save('Ytest_Regression_Part2.npy', y_test)"
   ]
  }
 ],
 "metadata": {
  "interpreter": {
   "hash": "0af6baf7c8a281cd65d8922d7f2830a6498700536f6f2891fee8a91c6940a690"
  },
  "kernelspec": {
   "display_name": "Python 3.8.11 64-bit ('AAut': conda)",
   "name": "python3"
  },
  "language_info": {
   "codemirror_mode": {
    "name": "ipython",
    "version": 3
   },
   "file_extension": ".py",
   "mimetype": "text/x-python",
   "name": "python",
   "nbconvert_exporter": "python",
   "pygments_lexer": "ipython3",
   "version": "3.8.11"
  },
  "orig_nbformat": 4
 },
 "nbformat": 4,
 "nbformat_minor": 2
}
